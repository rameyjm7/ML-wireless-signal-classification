version https://git-lfs.github.com/spec/v1
oid sha256:fe6c48c6dd45089230b4b9df1f39ed06405ad68215052f97e16d519e0c660b03
size 393043
