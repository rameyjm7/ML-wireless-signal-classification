version https://git-lfs.github.com/spec/v1
oid sha256:32e065f828ac2cd64299eac1197045122f2344ddddc11f38647e0a7591ed95d2
size 673590
