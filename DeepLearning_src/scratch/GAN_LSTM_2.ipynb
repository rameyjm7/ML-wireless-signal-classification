version https://git-lfs.github.com/spec/v1
oid sha256:e7ce117d20adb49fc4e7049bf95f686d171a8aa48ca3bf8b80f7eb16697eb48d
size 665391
